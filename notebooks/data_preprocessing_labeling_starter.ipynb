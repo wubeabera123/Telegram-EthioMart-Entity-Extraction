{
 "cells": [
  {
   "cell_type": "markdown",
   "metadata": {},
   "source": [
    "# Import the necessary libraries"
   ]
  },
  {
   "cell_type": "code",
   "execution_count": 1,
   "metadata": {},
   "outputs": [],
   "source": [
    "import pandas as pd\n",
    "import sys\n",
    "import os\n",
    "import matplotlib.pyplot as plt\n",
    "import seaborn as sns\n",
    "import logging\n",
    "import re\n",
    "\n",
    "# Configure logging\n",
    "logging.basicConfig(filename='../logs/data_processing.log',\n",
    "                    level=logging.INFO,\n",
    "                    format='%(asctime)s:%(levelname)s:%(message)s')\n",
    "  \n",
    "\n",
    "sys.path.append(os.path.abspath(os.path.join(os.getcwd(), '../scripts')))\n",
    "from load_data import Load_Data\n"
   ]
  },
  {
   "cell_type": "code",
   "execution_count": 3,
   "metadata": {},
   "outputs": [],
   "source": [
    "df = pd.read_excel('../data/telegram_data.xlsx')\n",
    "\n"
   ]
  },
  {
   "cell_type": "code",
   "execution_count": 4,
   "metadata": {},
   "outputs": [
    {
     "name": "stdout",
     "output_type": "stream",
     "text": [
      "Checking for NaN values in the 'Message' column:\n",
      "Number of NaN values in 'Message' column: 1849\n"
     ]
    }
   ],
   "source": [
    "print(\"Checking for NaN values in the 'Message' column:\")\n",
    "nan_count = df['Message'].isnull().sum()\n",
    "print(f\"Number of NaN values in 'Message' column: {nan_count}\")"
   ]
  },
  {
   "cell_type": "code",
   "execution_count": 5,
   "metadata": {},
   "outputs": [
    {
     "name": "stdout",
     "output_type": "stream",
     "text": [
      "Dataset shape after dropping NaN values in 'Message' column: (3166, 6)\n"
     ]
    }
   ],
   "source": [
    "df = df.dropna(subset=['Message'])\n",
    "\n",
    "# Print the shape of the dataset after dropping NaN values in the \"Message\" column\n",
    "print(f\"Dataset shape after dropping NaN values in 'Message' column: {df.shape}\")"
   ]
  },
  {
   "cell_type": "code",
   "execution_count": 6,
   "metadata": {},
   "outputs": [
    {
     "data": {
      "text/html": [
       "<div>\n",
       "<style scoped>\n",
       "    .dataframe tbody tr th:only-of-type {\n",
       "        vertical-align: middle;\n",
       "    }\n",
       "\n",
       "    .dataframe tbody tr th {\n",
       "        vertical-align: top;\n",
       "    }\n",
       "\n",
       "    .dataframe thead th {\n",
       "        text-align: right;\n",
       "    }\n",
       "</style>\n",
       "<table border=\"1\" class=\"dataframe\">\n",
       "  <thead>\n",
       "    <tr style=\"text-align: right;\">\n",
       "      <th></th>\n",
       "      <th>Channel Title</th>\n",
       "      <th>Channel Username</th>\n",
       "      <th>ID</th>\n",
       "      <th>Message</th>\n",
       "      <th>Date</th>\n",
       "      <th>Media Path</th>\n",
       "    </tr>\n",
       "  </thead>\n",
       "  <tbody>\n",
       "    <tr>\n",
       "      <th>5</th>\n",
       "      <td>Sheger online-store</td>\n",
       "      <td>@Shageronlinestore</td>\n",
       "      <td>5328.0</td>\n",
       "      <td>💥3pcs silicon brush spatulas\\n\\n\\n      \\n    ...</td>\n",
       "      <td>2024-09-20 11:50:02+00:00</td>\n",
       "      <td>photos/@Shageronlinestore_5328.jpg</td>\n",
       "    </tr>\n",
       "    <tr>\n",
       "      <th>6</th>\n",
       "      <td>Sheger online-store</td>\n",
       "      <td>@Shageronlinestore</td>\n",
       "      <td>5327.0</td>\n",
       "      <td>💥Mandoline Slicer\\n\\n👉 ጊዜ ቆጣቢ ስላይስ ማድረጊያ \\n👉  ...</td>\n",
       "      <td>2024-09-20 08:11:40+00:00</td>\n",
       "      <td>NaN</td>\n",
       "    </tr>\n",
       "    <tr>\n",
       "      <th>7</th>\n",
       "      <td>Sheger online-store</td>\n",
       "      <td>@Shageronlinestore</td>\n",
       "      <td>5326.0</td>\n",
       "      <td>💥Table Desk Edge Guard Strip\\n       💯 High Qu...</td>\n",
       "      <td>2024-09-20 05:23:18+00:00</td>\n",
       "      <td>NaN</td>\n",
       "    </tr>\n",
       "    <tr>\n",
       "      <th>8</th>\n",
       "      <td>Sheger online-store</td>\n",
       "      <td>@Shageronlinestore</td>\n",
       "      <td>5325.0</td>\n",
       "      <td>💥Table Desk Edge Guard Strip\\n       💯 High Qu...</td>\n",
       "      <td>2024-09-20 05:21:14+00:00</td>\n",
       "      <td>photos/@Shageronlinestore_5325.jpg</td>\n",
       "    </tr>\n",
       "    <tr>\n",
       "      <th>10</th>\n",
       "      <td>Sheger online-store</td>\n",
       "      <td>@Shageronlinestore</td>\n",
       "      <td>5323.0</td>\n",
       "      <td>💥Only baby 3in1 double bottle milk warmer,ster...</td>\n",
       "      <td>2024-09-19 13:54:46+00:00</td>\n",
       "      <td>photos/@Shageronlinestore_5323.jpg</td>\n",
       "    </tr>\n",
       "  </tbody>\n",
       "</table>\n",
       "</div>"
      ],
      "text/plain": [
       "          Channel Title    Channel Username      ID  \\\n",
       "5   Sheger online-store  @Shageronlinestore  5328.0   \n",
       "6   Sheger online-store  @Shageronlinestore  5327.0   \n",
       "7   Sheger online-store  @Shageronlinestore  5326.0   \n",
       "8   Sheger online-store  @Shageronlinestore  5325.0   \n",
       "10  Sheger online-store  @Shageronlinestore  5323.0   \n",
       "\n",
       "                                              Message  \\\n",
       "5   💥3pcs silicon brush spatulas\\n\\n\\n      \\n    ...   \n",
       "6   💥Mandoline Slicer\\n\\n👉 ጊዜ ቆጣቢ ስላይስ ማድረጊያ \\n👉  ...   \n",
       "7   💥Table Desk Edge Guard Strip\\n       💯 High Qu...   \n",
       "8   💥Table Desk Edge Guard Strip\\n       💯 High Qu...   \n",
       "10  💥Only baby 3in1 double bottle milk warmer,ster...   \n",
       "\n",
       "                         Date                          Media Path  \n",
       "5   2024-09-20 11:50:02+00:00  photos/@Shageronlinestore_5328.jpg  \n",
       "6   2024-09-20 08:11:40+00:00                                 NaN  \n",
       "7   2024-09-20 05:23:18+00:00                                 NaN  \n",
       "8   2024-09-20 05:21:14+00:00  photos/@Shageronlinestore_5325.jpg  \n",
       "10  2024-09-19 13:54:46+00:00  photos/@Shageronlinestore_5323.jpg  "
      ]
     },
     "execution_count": 6,
     "metadata": {},
     "output_type": "execute_result"
    }
   ],
   "source": [
    "df.head()"
   ]
  },
  {
   "cell_type": "code",
   "execution_count": 7,
   "metadata": {},
   "outputs": [
    {
     "data": {
      "text/plain": [
       "5       💥3pcs silicon brush spatulas\\n\\n\\n      \\n    ...\n",
       "6       💥Mandoline Slicer\\n\\n👉 ጊዜ ቆጣቢ ስላይስ ማድረጊያ \\n👉  ...\n",
       "7       💥Table Desk Edge Guard Strip\\n       💯 High Qu...\n",
       "8       💥Table Desk Edge Guard Strip\\n       💯 High Qu...\n",
       "10      💥Only baby 3in1 double bottle milk warmer,ster...\n",
       "                              ...                        \n",
       "5009    🎯 Kitchen Sticker\\n\\nለኪችንዎ ውበት እጅግ ተመራጭ \\n🔰ውሀ ...\n",
       "5010    🎯 3in1 One Step Hair Dryer & Styler \\n\\n👉 ከርል ...\n",
       "5011    ✅ Home GYM - X5 slimming vibrator \\n\\n📢📢📢 ታላቅ ...\n",
       "5012    ለጤናችን-Health & Personal Care\\n\\n📍FingerTip Pul...\n",
       "5013    #Finger_tip_pulse_oximeter\\n       #በተመጣጣኝ_ዋጋ\\...\n",
       "Name: Message, Length: 3166, dtype: object"
      ]
     },
     "execution_count": 7,
     "metadata": {},
     "output_type": "execute_result"
    }
   ],
   "source": [
    "message_df=df['Message']\n",
    "message_df"
   ]
  },
  {
   "cell_type": "code",
   "execution_count": 8,
   "metadata": {},
   "outputs": [
    {
     "name": "stdout",
     "output_type": "stream",
     "text": [
      "          Channel Title    Channel Username      ID  \\\n",
      "5   Sheger online-store  @Shageronlinestore  5328.0   \n",
      "6   Sheger online-store  @Shageronlinestore  5327.0   \n",
      "7   Sheger online-store  @Shageronlinestore  5326.0   \n",
      "8   Sheger online-store  @Shageronlinestore  5325.0   \n",
      "10  Sheger online-store  @Shageronlinestore  5323.0   \n",
      "\n",
      "                                              Message  \\\n",
      "5   3pcs silicon brush spatulas\\n\\n\\n      \\n     ...   \n",
      "6   Mandoline Slicer\\n\\n ጊዜ ቆጣቢ ስላይስ ማድረጊያ \\n  ለእጅ...   \n",
      "7   Table Desk Edge Guard Strip\\n        High Qual...   \n",
      "8   Table Desk Edge Guard Strip\\n        High Qual...   \n",
      "10  Only baby 3in1 double bottle milk warmer,steri...   \n",
      "\n",
      "                         Date                          Media Path  \n",
      "5   2024-09-20 11:50:02+00:00  photos/@Shageronlinestore_5328.jpg  \n",
      "6   2024-09-20 08:11:40+00:00                                 NaN  \n",
      "7   2024-09-20 05:23:18+00:00                                 NaN  \n",
      "8   2024-09-20 05:21:14+00:00  photos/@Shageronlinestore_5325.jpg  \n",
      "10  2024-09-19 13:54:46+00:00  photos/@Shageronlinestore_5323.jpg  \n"
     ]
    }
   ],
   "source": [
    "\n",
    "# Example of your DataFrame\n",
    "# df = pd.DataFrame({'Message': ['💥3pcs silicon brush spatulas...', '💥Mandoline Slicer...', ...]})\n",
    "\n",
    "# Define a function to remove emojis\n",
    "def remove_emojis(text):\n",
    "    emoji_pattern = re.compile(\n",
    "        \"[\" \n",
    "        \"\\U0001F600-\\U0001F64F\"  # emoticons\n",
    "        \"\\U0001F300-\\U0001F5FF\"  # symbols & pictographs\n",
    "        \"\\U0001F680-\\U0001F6FF\"  # transport & map symbols\n",
    "        \"\\U0001F700-\\U0001F77F\"  # alchemical symbols\n",
    "        \"\\U0001F780-\\U0001F7FF\"  # Geometric Shapes Extended\n",
    "        \"\\U0001F800-\\U0001F8FF\"  # Supplemental Arrows-C\n",
    "        \"\\U0001F900-\\U0001F9FF\"  # Supplemental Symbols and Pictographs\n",
    "        \"\\U0001FA00-\\U0001FA6F\"  # Chess Symbols\n",
    "        \"\\U0001FA70-\\U0001FAFF\"  # Symbols and Pictographs Extended-A\n",
    "        \"\\U00002702-\\U000027B0\"  # Dingbats\n",
    "        \"\\U000024C2-\\U0001F251\" \n",
    "        \"]+\", \n",
    "        flags=re.UNICODE\n",
    "    )\n",
    "    return emoji_pattern.sub(r'', text)\n",
    "\n",
    "# Apply the function to the 'Message' column\n",
    "df['Message'] = df['Message'].apply(remove_emojis)\n",
    "\n",
    "# Display the updated DataFrame\n",
    "print(df.head())\n"
   ]
  },
  {
   "cell_type": "code",
   "execution_count": 21,
   "metadata": {},
   "outputs": [],
   "source": [
    "df = df.to_csv('../data/clean_data.csv')"
   ]
  },
  {
   "cell_type": "markdown",
   "metadata": {},
   "source": [
    "# Token Labeling for Product, Price, and Location Recognition in UTF-8 Messages"
   ]
  },
  {
   "cell_type": "code",
   "execution_count": 9,
   "metadata": {},
   "outputs": [
    {
     "data": {
      "text/html": [
       "<div>\n",
       "<style scoped>\n",
       "    .dataframe tbody tr th:only-of-type {\n",
       "        vertical-align: middle;\n",
       "    }\n",
       "\n",
       "    .dataframe tbody tr th {\n",
       "        vertical-align: top;\n",
       "    }\n",
       "\n",
       "    .dataframe thead th {\n",
       "        text-align: right;\n",
       "    }\n",
       "</style>\n",
       "<table border=\"1\" class=\"dataframe\">\n",
       "  <thead>\n",
       "    <tr style=\"text-align: right;\">\n",
       "      <th></th>\n",
       "      <th>Channel Title</th>\n",
       "      <th>Channel Username</th>\n",
       "      <th>ID</th>\n",
       "      <th>Message</th>\n",
       "      <th>Date</th>\n",
       "      <th>Media Path</th>\n",
       "      <th>Labeled_Message</th>\n",
       "    </tr>\n",
       "  </thead>\n",
       "  <tbody>\n",
       "    <tr>\n",
       "      <th>5</th>\n",
       "      <td>Sheger online-store</td>\n",
       "      <td>@Shageronlinestore</td>\n",
       "      <td>5328.0</td>\n",
       "      <td>3pcs silicon brush spatulas\\n\\n\\n      \\n     ...</td>\n",
       "      <td>2024-09-20 11:50:02+00:00</td>\n",
       "      <td>photos/@Shageronlinestore_5328.jpg</td>\n",
       "      <td>3pcs B-PRODUCT\\nsilicon I-PRODUCT\\nbrush I-PRO...</td>\n",
       "    </tr>\n",
       "    <tr>\n",
       "      <th>6</th>\n",
       "      <td>Sheger online-store</td>\n",
       "      <td>@Shageronlinestore</td>\n",
       "      <td>5327.0</td>\n",
       "      <td>Mandoline Slicer\\n\\n ጊዜ ቆጣቢ ስላይስ ማድረጊያ \\n  ለእጅ...</td>\n",
       "      <td>2024-09-20 08:11:40+00:00</td>\n",
       "      <td>NaN</td>\n",
       "      <td>Mandoline B-PRODUCT\\nSlicer I-PRODUCT\\nጊዜ O\\nቆ...</td>\n",
       "    </tr>\n",
       "    <tr>\n",
       "      <th>7</th>\n",
       "      <td>Sheger online-store</td>\n",
       "      <td>@Shageronlinestore</td>\n",
       "      <td>5326.0</td>\n",
       "      <td>Table Desk Edge Guard Strip\\n        High Qual...</td>\n",
       "      <td>2024-09-20 05:23:18+00:00</td>\n",
       "      <td>NaN</td>\n",
       "      <td>Table B-PRODUCT\\nDesk I-PRODUCT\\nEdge I-PRODUC...</td>\n",
       "    </tr>\n",
       "    <tr>\n",
       "      <th>8</th>\n",
       "      <td>Sheger online-store</td>\n",
       "      <td>@Shageronlinestore</td>\n",
       "      <td>5325.0</td>\n",
       "      <td>Table Desk Edge Guard Strip\\n        High Qual...</td>\n",
       "      <td>2024-09-20 05:21:14+00:00</td>\n",
       "      <td>photos/@Shageronlinestore_5325.jpg</td>\n",
       "      <td>Table B-PRODUCT\\nDesk I-PRODUCT\\nEdge I-PRODUC...</td>\n",
       "    </tr>\n",
       "    <tr>\n",
       "      <th>10</th>\n",
       "      <td>Sheger online-store</td>\n",
       "      <td>@Shageronlinestore</td>\n",
       "      <td>5323.0</td>\n",
       "      <td>Only baby 3in1 double bottle milk warmer,steri...</td>\n",
       "      <td>2024-09-19 13:54:46+00:00</td>\n",
       "      <td>photos/@Shageronlinestore_5323.jpg</td>\n",
       "      <td>Only B-PRODUCT\\nbaby I-PRODUCT\\n3in1 I-PRODUCT...</td>\n",
       "    </tr>\n",
       "  </tbody>\n",
       "</table>\n",
       "</div>"
      ],
      "text/plain": [
       "          Channel Title    Channel Username      ID  \\\n",
       "5   Sheger online-store  @Shageronlinestore  5328.0   \n",
       "6   Sheger online-store  @Shageronlinestore  5327.0   \n",
       "7   Sheger online-store  @Shageronlinestore  5326.0   \n",
       "8   Sheger online-store  @Shageronlinestore  5325.0   \n",
       "10  Sheger online-store  @Shageronlinestore  5323.0   \n",
       "\n",
       "                                              Message  \\\n",
       "5   3pcs silicon brush spatulas\\n\\n\\n      \\n     ...   \n",
       "6   Mandoline Slicer\\n\\n ጊዜ ቆጣቢ ስላይስ ማድረጊያ \\n  ለእጅ...   \n",
       "7   Table Desk Edge Guard Strip\\n        High Qual...   \n",
       "8   Table Desk Edge Guard Strip\\n        High Qual...   \n",
       "10  Only baby 3in1 double bottle milk warmer,steri...   \n",
       "\n",
       "                         Date                          Media Path  \\\n",
       "5   2024-09-20 11:50:02+00:00  photos/@Shageronlinestore_5328.jpg   \n",
       "6   2024-09-20 08:11:40+00:00                                 NaN   \n",
       "7   2024-09-20 05:23:18+00:00                                 NaN   \n",
       "8   2024-09-20 05:21:14+00:00  photos/@Shageronlinestore_5325.jpg   \n",
       "10  2024-09-19 13:54:46+00:00  photos/@Shageronlinestore_5323.jpg   \n",
       "\n",
       "                                      Labeled_Message  \n",
       "5   3pcs B-PRODUCT\\nsilicon I-PRODUCT\\nbrush I-PRO...  \n",
       "6   Mandoline B-PRODUCT\\nSlicer I-PRODUCT\\nጊዜ O\\nቆ...  \n",
       "7   Table B-PRODUCT\\nDesk I-PRODUCT\\nEdge I-PRODUC...  \n",
       "8   Table B-PRODUCT\\nDesk I-PRODUCT\\nEdge I-PRODUC...  \n",
       "10  Only B-PRODUCT\\nbaby I-PRODUCT\\n3in1 I-PRODUCT...  "
      ]
     },
     "execution_count": 9,
     "metadata": {},
     "output_type": "execute_result"
    }
   ],
   "source": [
    "import re\n",
    "\n",
    "def label_message_utf8_with_birr(message):\n",
    "    # Check if the message is None\n",
    "    if not message:\n",
    "        return \"\"  # Return an empty string for None or empty messages\n",
    "    \n",
    "    # Split the message at the first occurrence of '\\n'\n",
    "    if '\\n' in message:\n",
    "        first_line, remaining_message = message.split('\\n', 1)\n",
    "    else:\n",
    "        first_line, remaining_message = message, \"\"\n",
    "    \n",
    "    labeled_tokens = []\n",
    "    \n",
    "    # Tokenize the first line\n",
    "    first_line_tokens = re.findall(r'\\S+', first_line)\n",
    "    \n",
    "    # Label the first token as B-PRODUCT and the rest as I-PRODUCT\n",
    "    if first_line_tokens:\n",
    "        labeled_tokens.append(f\"{first_line_tokens[0]} B-PRODUCT\")  # First token as B-PRODUCT\n",
    "        for token in first_line_tokens[1:]:\n",
    "            labeled_tokens.append(f\"{token} I-PRODUCT\")  # Remaining tokens as I-PRODUCT\n",
    "    \n",
    "    # Process the remaining message normally\n",
    "    if remaining_message:\n",
    "        lines = remaining_message.split('\\n')\n",
    "        for line in lines:\n",
    "            tokens = re.findall(r'\\S+', line)  # Tokenize each line\n",
    "            \n",
    "            for token in tokens:\n",
    "                # Check if token is a price (e.g., 500 ETB, $100, or ብር)\n",
    "                if re.match(r'^\\d{10,}$', token):\n",
    "                    labeled_tokens.append(f\"{token} O\")  # Label as O for \"other\" or outside of any entity\n",
    "                elif re.match(r'^\\d+(\\.\\d{1,2})?$', token) or 'ETB' in token or 'ዋጋ' in token or '$' in token or 'ብር' in token:\n",
    "                    labeled_tokens.append(f\"{token} I-PRICE\")\n",
    "                # Check if token could be a location (e.g., cities or general location names)\n",
    "                elif any(loc in token for loc in ['Addis Ababa', 'ለቡ', 'ለቡ መዳህኒዓለም', 'መገናኛ', 'ቦሌ', 'ሜክሲኮ']):\n",
    "                    labeled_tokens.append(f\"{token} I-LOC\")\n",
    "                # Assume other tokens are part of a product name or general text\n",
    "                else:\n",
    "                    labeled_tokens.append(f\"{token} O\")\n",
    "    \n",
    "    return \"\\n\".join(labeled_tokens)\n",
    "\n",
    "# Ensure that None or NaN values in the 'Message' column are handled\n",
    "df['Message'] = df['Message'].fillna(\"\")  # Replace None/NaN with an empty string\n",
    "\n",
    "# Apply the updated function to the non-null messages\n",
    "df['Labeled_Message'] = df['Message'].apply(label_message_utf8_with_birr)\n",
    "\n",
    "# Display the updated DataFrame\n",
    "df.head()\n"
   ]
  },
  {
   "cell_type": "code",
   "execution_count": 10,
   "metadata": {},
   "outputs": [],
   "source": [
    "# Save the updated labeled dataset to a file in CoNLL format\n",
    "labeled_data_birr_path = 'labeled_telegram_product_price_location.txt-'\n",
    "with open(labeled_data_birr_path, 'w', encoding='utf-8') as f:\n",
    "    for index, row in df.iterrows():\n",
    "        f.write(f\"{row['Labeled_Message']}\\n\\n\")"
   ]
  },
  {
   "cell_type": "markdown",
   "metadata": {},
   "source": []
  },
  {
   "cell_type": "code",
   "execution_count": 11,
   "metadata": {},
   "outputs": [],
   "source": [
    "def label_message_utf8_with_birr(message):\n",
    "    tokens = re.findall(r'\\S+', message)  # Tokenize while considering non-ASCII characters\n",
    "    labeled_tokens = []\n",
    "    \n",
    "    for token in tokens:\n",
    "        # Check if token is a price (e.g., 500 ETB, $100, or ብር)\n",
    "        \n",
    "        if re.match(r'^\\d{10,}$', token):\n",
    "            labeled_tokens.append(f\"{token} O\")  # Label as O for \"other\" or outside of any entity\n",
    "        elif re.match(r'^\\d+(\\.\\d{1,2})?$', token) or 'ETB' in token or '$' in token or 'ብር' in token:\n",
    "            labeled_tokens.append(f\"{token} I-PRICE\")\n",
    "        \n",
    "        # Check if token could be a location (e.g., cities or general location names)\n",
    "        elif any(loc in token for loc in ['Addis Ababa', 'ለቡ', 'ለቡ  መዳህኒዓለም', 'መገናኛ','ቦሌ','ሜክሲኮ']):\n",
    "            labeled_tokens.append(f\"{token} I-LOC\")\n",
    "        \n",
    "        elif any(loc in token for loc in ['💥']):\n",
    "            labeled_tokens.append(f\"{token} B-Product\")\n",
    "        \n",
    "        # Assume other tokens are part of a product name (this can be refined)\n",
    "        else:\n",
    "            labeled_tokens.append(f\"{token} O\")\n",
    "    \n",
    "    return \"\\n\".join(labeled_tokens)\n",
    "\n",
    "# Apply the updated function to the non-null messages\n",
    "df['Labeled_Message'] = df['Message'].apply(label_message_utf8_with_birr)\n",
    "\n"
   ]
  },
  {
   "cell_type": "code",
   "execution_count": 12,
   "metadata": {},
   "outputs": [],
   "source": [
    "# Save the updated labeled dataset to a file in CoNLL format\n",
    "labeled_data_birr_path = 'labeled_telegram_data_price_product_location_birr.txt'\n",
    "with open(labeled_data_birr_path, 'w', encoding='utf-8') as f:\n",
    "    for index, row in df.iterrows():\n",
    "        f.write(f\"{row['Labeled_Message']}\\n\\n\")"
   ]
  },
  {
   "cell_type": "code",
   "execution_count": 13,
   "metadata": {},
   "outputs": [
    {
     "name": "stderr",
     "output_type": "stream",
     "text": [
      "c:\\Users\\wubeshet.abera\\Projects\\Ten-Academy\\Telegram-EthioMart-Entity-Extraction\\venv\\Lib\\site-packages\\tqdm\\auto.py:21: TqdmWarning: IProgress not found. Please update jupyter and ipywidgets. See https://ipywidgets.readthedocs.io/en/stable/user_install.html\n",
      "  from .autonotebook import tqdm as notebook_tqdm\n",
      "c:\\Users\\wubeshet.abera\\Projects\\Ten-Academy\\Telegram-EthioMart-Entity-Extraction\\venv\\Lib\\site-packages\\transformers\\tokenization_utils_base.py:1617: FutureWarning: `clean_up_tokenization_spaces` was not set. It will be set to `True` by default. This behavior will be deprecated in transformers v4.45, and will be then set to `False` by default. For more details check this issue: https://github.com/huggingface/transformers/issues/31884\n",
      "  warnings.warn(\n"
     ]
    },
    {
     "name": "stdout",
     "output_type": "stream",
     "text": [
      "[{'entity': 'B-LOC', 'score': np.float32(0.92732847), 'index': 35, 'word': '▁ስ', 'start': 112, 'end': 113}, {'entity': 'B-ORG', 'score': np.float32(0.49229348), 'index': 36, 'word': 'ሪ', 'start': 113, 'end': 114}, {'entity': 'I-LOC', 'score': np.float32(0.9909759), 'index': 37, 'word': '▁', 'start': 115, 'end': 116}, {'entity': 'I-LOC', 'score': np.float32(0.98072445), 'index': 38, 'word': 'ኤም', 'start': 115, 'end': 117}, {'entity': 'I-LOC', 'score': np.float32(0.9790091), 'index': 39, 'word': '▁ሲ', 'start': 118, 'end': 119}, {'entity': 'I-LOC', 'score': np.float32(0.9285544), 'index': 40, 'word': 'ቲ', 'start': 119, 'end': 120}, {'entity': 'I-LOC', 'score': np.float32(0.9664343), 'index': 41, 'word': '▁ሞ', 'start': 121, 'end': 122}, {'entity': 'I-LOC', 'score': np.float32(0.98376197), 'index': 42, 'word': 'ል', 'start': 122, 'end': 123}, {'entity': 'I-LOC', 'score': np.float32(0.8450248), 'index': 43, 'word': '▁', 'start': 125, 'end': 126}, {'entity': 'B-LOC', 'score': np.float32(0.64651513), 'index': 56, 'word': '▁ሊ', 'start': 148, 'end': 149}, {'entity': 'I-LOC', 'score': np.float32(0.52832204), 'index': 57, 'word': 'ፍ', 'start': 149, 'end': 150}, {'entity': 'I-LOC', 'score': np.float32(0.8793962), 'index': 58, 'word': 'ቱ', 'start': 150, 'end': 151}, {'entity': 'B-LOC', 'score': np.float32(0.8014705), 'index': 66, 'word': '▁ለ', 'start': 166, 'end': 167}, {'entity': 'B-ORG', 'score': np.float32(0.6658361), 'index': 68, 'word': '▁መ', 'start': 170, 'end': 171}, {'entity': 'I-ORG', 'score': np.float32(0.64230424), 'index': 69, 'word': 'ዳ', 'start': 171, 'end': 172}, {'entity': 'I-ORG', 'score': np.float32(0.9199635), 'index': 70, 'word': 'ህ', 'start': 172, 'end': 173}, {'entity': 'I-ORG', 'score': np.float32(0.89536756), 'index': 71, 'word': 'ኒ', 'start': 173, 'end': 174}, {'entity': 'I-ORG', 'score': np.float32(0.87152207), 'index': 72, 'word': 'ዓለም', 'start': 174, 'end': 177}, {'entity': 'I-ORG', 'score': np.float32(0.86477196), 'index': 73, 'word': '▁ቤተ', 'start': 178, 'end': 180}, {'entity': 'I-ORG', 'score': np.float32(0.9408843), 'index': 74, 'word': '/', 'start': 180, 'end': 181}, {'entity': 'I-ORG', 'score': np.float32(0.67868423), 'index': 75, 'word': 'ክር', 'start': 181, 'end': 183}, {'entity': 'I-ORG', 'score': np.float32(0.8165974), 'index': 76, 'word': 'ስቲ', 'start': 183, 'end': 185}, {'entity': 'I-LOC', 'score': np.float32(0.58212066), 'index': 77, 'word': 'ያን', 'start': 185, 'end': 187}, {'entity': 'B-ORG', 'score': np.float32(0.99599946), 'index': 116, 'word': '▁በ', 'start': 287, 'end': 288}, {'entity': 'B-ORG', 'score': np.float32(0.8701998), 'index': 117, 'word': 'Tele', 'start': 288, 'end': 292}]\n"
     ]
    }
   ],
   "source": [
    "from transformers import AutoTokenizer, AutoModelForTokenClassification\n",
    "from transformers import pipeline\n",
    "\n",
    "# Load the model and tokenizer\n",
    "tokenizer = AutoTokenizer.from_pretrained(\"masakhane/afroxlmr-large-ner-masakhaner-1.0_2.0\")\n",
    "model = AutoModelForTokenClassification.from_pretrained(\"masakhane/afroxlmr-large-ner-masakhaner-1.0_2.0\")\n",
    "nlp = pipeline(\"ner\", model=model, tokenizer=tokenizer)\n",
    "\n",
    "# Example text from your dataframe\n",
    "example = df['Message'][10]\n",
    "ner_results = nlp(example)\n",
    "print(ner_results)\n"
   ]
  },
  {
   "cell_type": "code",
   "execution_count": 14,
   "metadata": {},
   "outputs": [
    {
     "data": {
      "text/plain": [
       "'Only baby 3in1 double bottle milk warmer,sterilizer,food steamer\\n\\n\\xa0\\xa0\\xa0\\xa0\\xa0\\xa0\\xa0 ዋጋ:-3000ብር\\n\\nውስን ፍሬ ነው ያለው\\n\\n አድራሻ\\xa0 ቁ.1 ስሪ ኤም ሲቲ ሞል\\xa0 ሁለተኛ ፎቅ ቢሮ ቁ. SL-05A(ከ ሊፍቱ ፊት ለ ፊት)\\n\\nቁ.2 ለቡ\\xa0 መዳህኒዓለም ቤተ/ክርስቲያን ፊት ለፊት\\xa0 #ዛም_ሞል 2ኛ ፎቅ ቢሮ ቁጥር.214\\n\\nለቡ\\xa0ቅርንጫፍ0973611819\\n\\n\\n\\n\\xa0\\xa0\\xa0\\xa0 \\n\\n\\n\\xa0\\xa0\\xa0  0909522840\\n\\xa0\\xa0\\xa0  0923350054\\n\\n\\n\\xa0 በTelegram ለማዘዝ  ይጠቀሙ\\n@shager_onlinestore\\n\\xa0 \\nለተጨማሪ ማብራሪያ የቴሌግራም ገፃችን\\nhttps://t.me/Shageronlinestore'"
      ]
     },
     "execution_count": 14,
     "metadata": {},
     "output_type": "execute_result"
    }
   ],
   "source": [
    "df['Message'][10]\n"
   ]
  },
  {
   "cell_type": "code",
   "execution_count": 15,
   "metadata": {},
   "outputs": [],
   "source": [
    "df.to_csv('../data/clean_data_set.csv')"
   ]
  },
  {
   "cell_type": "code",
   "execution_count": 18,
   "metadata": {},
   "outputs": [
    {
     "name": "stdout",
     "output_type": "stream",
     "text": [
      "                                              Message  Contains_Amharic\n",
      "5   3pcs silicon brush spatulas\\n\\n\\n      \\n     ...              True\n",
      "6   Mandoline Slicer\\n\\n ጊዜ ቆጣቢ ስላይስ ማድረጊያ \\n  ለእጅ...              True\n",
      "7   Table Desk Edge Guard Strip\\n        High Qual...              True\n",
      "8   Table Desk Edge Guard Strip\\n        High Qual...              True\n",
      "10  Only baby 3in1 double bottle milk warmer,steri...              True\n"
     ]
    }
   ],
   "source": [
    "# Function to check if a string contains Amharic characters\n",
    "def is_amharic(message):\n",
    "    return bool(re.search(r'[\\u1200-\\u137F]', message))\n",
    "\n",
    "# Example: applying the function to a DataFrame\n",
    "# Assuming 'df' is your DataFrame with a 'Message' column\n",
    "\n",
    "# Apply the function to the 'Message' column and create a new column 'Contains_Amharic'\n",
    "df['Contains_Amharic'] = df['Message'].apply(is_amharic)\n",
    "\n",
    "# Print the first few rows to check the output\n",
    "print(df[['Message', 'Contains_Amharic']].head())"
   ]
  },
  {
   "cell_type": "code",
   "execution_count": 16,
   "metadata": {},
   "outputs": [],
   "source": [
    "# Function to classify messages\n",
    "def classify_message(message):\n",
    "    if pd.isna(message):  # Check for NaN or None\n",
    "        return 'uncategorized'\n",
    "    \n",
    "    if is_amharic(message):\n",
    "        for category, keywords in categories.items():\n",
    "            if any(keyword in message for keyword in keywords):\n",
    "                return category\n",
    "    else:\n",
    "        for category, keywords in categories.items():\n",
    "            if any(keyword in message.lower() for keyword in keywords):\n",
    "                return category\n",
    "    return 'uncategorized'\n",
    "\n"
   ]
  },
  {
   "cell_type": "code",
   "execution_count": 17,
   "metadata": {},
   "outputs": [
    {
     "name": "stdout",
     "output_type": "stream",
     "text": [
      "                                              Message Category\n",
      "5   3pcs silicon brush spatulas\\n\\n\\n      \\n     ...    Other\n",
      "6   Mandoline Slicer\\n\\n ጊዜ ቆጣቢ ስላይስ ማድረጊያ \\n  ለእጅ...    Price\n",
      "7   Table Desk Edge Guard Strip\\n        High Qual...    Price\n",
      "8   Table Desk Edge Guard Strip\\n        High Qual...    Price\n",
      "10  Only baby 3in1 double bottle milk warmer,steri...    Other\n"
     ]
    }
   ],
   "source": [
    "import re\n",
    "\n",
    "# Example of a classify_message function\n",
    "def classify_message(message):\n",
    "    # Define categories and classification logic\n",
    "    if re.search(r'\\bአማርኛ\\b', message):  # Example condition for Amharic\n",
    "        return 'Amharic'\n",
    "    elif re.search(r'\\bprice\\b|\\bETB\\b|\\bብር\\b', message, re.IGNORECASE):\n",
    "        return 'Price'\n",
    "    elif re.search(r'\\bAddis Ababa\\b|ቦሌ|ሜክሲኮ', message):\n",
    "        return 'Location'\n",
    "    else:\n",
    "        return 'Other'\n",
    "\n",
    "# Apply the classify_message function to the Message column\n",
    "df['Category'] = df['Message'].apply(classify_message)\n",
    "\n",
    "# Display the updated DataFrame with categories\n",
    "print(df[['Message', 'Category']].head())\n"
   ]
  },
  {
   "cell_type": "code",
   "execution_count": 18,
   "metadata": {},
   "outputs": [
    {
     "name": "stdout",
     "output_type": "stream",
     "text": [
      "Category\n",
      "Price    1759\n",
      "Other    1407\n",
      "Name: count, dtype: int64\n"
     ]
    }
   ],
   "source": [
    "# Display counts of unique values in the Category column\n",
    "category_counts = df['Category'].value_counts()\n",
    "print(category_counts)"
   ]
  },
  {
   "cell_type": "code",
   "execution_count": 19,
   "metadata": {},
   "outputs": [
    {
     "data": {
      "text/html": [
       "<div>\n",
       "<style scoped>\n",
       "    .dataframe tbody tr th:only-of-type {\n",
       "        vertical-align: middle;\n",
       "    }\n",
       "\n",
       "    .dataframe tbody tr th {\n",
       "        vertical-align: top;\n",
       "    }\n",
       "\n",
       "    .dataframe thead th {\n",
       "        text-align: right;\n",
       "    }\n",
       "</style>\n",
       "<table border=\"1\" class=\"dataframe\">\n",
       "  <thead>\n",
       "    <tr style=\"text-align: right;\">\n",
       "      <th></th>\n",
       "      <th>Channel Title</th>\n",
       "      <th>Channel Username</th>\n",
       "      <th>ID</th>\n",
       "      <th>Message</th>\n",
       "      <th>Date</th>\n",
       "      <th>Media Path</th>\n",
       "      <th>Labeled_Message</th>\n",
       "      <th>Category</th>\n",
       "    </tr>\n",
       "  </thead>\n",
       "  <tbody>\n",
       "    <tr>\n",
       "      <th>5</th>\n",
       "      <td>Sheger online-store</td>\n",
       "      <td>@Shageronlinestore</td>\n",
       "      <td>5328.0</td>\n",
       "      <td>3pcs silicon brush spatulas\\n\\n\\n      \\n     ...</td>\n",
       "      <td>2024-09-20 11:50:02+00:00</td>\n",
       "      <td>photos/@Shageronlinestore_5328.jpg</td>\n",
       "      <td>3pcs O\\nsilicon O\\nbrush O\\nspatulas O\\nዋጋ-550...</td>\n",
       "      <td>Other</td>\n",
       "    </tr>\n",
       "    <tr>\n",
       "      <th>6</th>\n",
       "      <td>Sheger online-store</td>\n",
       "      <td>@Shageronlinestore</td>\n",
       "      <td>5327.0</td>\n",
       "      <td>Mandoline Slicer\\n\\n ጊዜ ቆጣቢ ስላይስ ማድረጊያ \\n  ለእጅ...</td>\n",
       "      <td>2024-09-20 08:11:40+00:00</td>\n",
       "      <td>NaN</td>\n",
       "      <td>Mandoline O\\nSlicer O\\nጊዜ O\\nቆጣቢ O\\nስላይስ O\\nማድ...</td>\n",
       "      <td>Price</td>\n",
       "    </tr>\n",
       "    <tr>\n",
       "      <th>7</th>\n",
       "      <td>Sheger online-store</td>\n",
       "      <td>@Shageronlinestore</td>\n",
       "      <td>5326.0</td>\n",
       "      <td>Table Desk Edge Guard Strip\\n        High Qual...</td>\n",
       "      <td>2024-09-20 05:23:18+00:00</td>\n",
       "      <td>NaN</td>\n",
       "      <td>Table O\\nDesk O\\nEdge O\\nGuard O\\nStrip O\\nHig...</td>\n",
       "      <td>Price</td>\n",
       "    </tr>\n",
       "    <tr>\n",
       "      <th>8</th>\n",
       "      <td>Sheger online-store</td>\n",
       "      <td>@Shageronlinestore</td>\n",
       "      <td>5325.0</td>\n",
       "      <td>Table Desk Edge Guard Strip\\n        High Qual...</td>\n",
       "      <td>2024-09-20 05:21:14+00:00</td>\n",
       "      <td>photos/@Shageronlinestore_5325.jpg</td>\n",
       "      <td>Table O\\nDesk O\\nEdge O\\nGuard O\\nStrip O\\nHig...</td>\n",
       "      <td>Price</td>\n",
       "    </tr>\n",
       "    <tr>\n",
       "      <th>10</th>\n",
       "      <td>Sheger online-store</td>\n",
       "      <td>@Shageronlinestore</td>\n",
       "      <td>5323.0</td>\n",
       "      <td>Only baby 3in1 double bottle milk warmer,steri...</td>\n",
       "      <td>2024-09-19 13:54:46+00:00</td>\n",
       "      <td>photos/@Shageronlinestore_5323.jpg</td>\n",
       "      <td>Only O\\nbaby O\\n3in1 O\\ndouble O\\nbottle O\\nmi...</td>\n",
       "      <td>Other</td>\n",
       "    </tr>\n",
       "    <tr>\n",
       "      <th>...</th>\n",
       "      <td>...</td>\n",
       "      <td>...</td>\n",
       "      <td>...</td>\n",
       "      <td>...</td>\n",
       "      <td>...</td>\n",
       "      <td>...</td>\n",
       "      <td>...</td>\n",
       "      <td>...</td>\n",
       "    </tr>\n",
       "    <tr>\n",
       "      <th>181</th>\n",
       "      <td>Sheger online-store</td>\n",
       "      <td>@Shageronlinestore</td>\n",
       "      <td>5142.0</td>\n",
       "      <td>WINNING STAR® 2in1 MULTIFUNCTIONAL BLENDER\\n\\n...</td>\n",
       "      <td>2024-08-29 09:12:06+00:00</td>\n",
       "      <td>photos/@Shageronlinestore_5142.jpg</td>\n",
       "      <td>WINNING O\\nSTAR® O\\n2in1 O\\nMULTIFUNCTIONAL O\\...</td>\n",
       "      <td>Other</td>\n",
       "    </tr>\n",
       "    <tr>\n",
       "      <th>182</th>\n",
       "      <td>Sheger online-store</td>\n",
       "      <td>@Shageronlinestore</td>\n",
       "      <td>5141.0</td>\n",
       "      <td>3.6L Glass dispenser jar with Bamboo stand\\n\\n...</td>\n",
       "      <td>2024-08-29 06:02:13+00:00</td>\n",
       "      <td>NaN</td>\n",
       "      <td>3.6L O\\nGlass O\\ndispenser O\\njar O\\nwith O\\nB...</td>\n",
       "      <td>Other</td>\n",
       "    </tr>\n",
       "    <tr>\n",
       "      <th>183</th>\n",
       "      <td>Sheger online-store</td>\n",
       "      <td>@Shageronlinestore</td>\n",
       "      <td>5140.0</td>\n",
       "      <td>3.6L Glass dispenser jar with Bamboo stand\\n\\n...</td>\n",
       "      <td>2024-08-29 06:01:02+00:00</td>\n",
       "      <td>photos/@Shageronlinestore_5140.jpg</td>\n",
       "      <td>3.6L O\\nGlass O\\ndispenser O\\njar O\\nwith O\\nB...</td>\n",
       "      <td>Other</td>\n",
       "    </tr>\n",
       "    <tr>\n",
       "      <th>184</th>\n",
       "      <td>Sheger online-store</td>\n",
       "      <td>@Shageronlinestore</td>\n",
       "      <td>5139.0</td>\n",
       "      <td>44CM HAOCHU® CERAMIC PIZZA PAN\\n\\nለቤትና ለሬስቶራንት...</td>\n",
       "      <td>2024-08-28 18:38:44+00:00</td>\n",
       "      <td>photos/@Shageronlinestore_5139.jpg</td>\n",
       "      <td>44CM O\\nHAOCHU® O\\nCERAMIC O\\nPIZZA O\\nPAN O\\n...</td>\n",
       "      <td>Other</td>\n",
       "    </tr>\n",
       "    <tr>\n",
       "      <th>185</th>\n",
       "      <td>Sheger online-store</td>\n",
       "      <td>@Shageronlinestore</td>\n",
       "      <td>5138.0</td>\n",
       "      <td>Silver Crest® touch technology electric stove ...</td>\n",
       "      <td>2024-08-28 14:11:54+00:00</td>\n",
       "      <td>photos/@Shageronlinestore_5138.jpg</td>\n",
       "      <td>Silver O\\nCrest® O\\ntouch O\\ntechnology O\\nele...</td>\n",
       "      <td>Other</td>\n",
       "    </tr>\n",
       "  </tbody>\n",
       "</table>\n",
       "<p>100 rows × 8 columns</p>\n",
       "</div>"
      ],
      "text/plain": [
       "           Channel Title    Channel Username      ID  \\\n",
       "5    Sheger online-store  @Shageronlinestore  5328.0   \n",
       "6    Sheger online-store  @Shageronlinestore  5327.0   \n",
       "7    Sheger online-store  @Shageronlinestore  5326.0   \n",
       "8    Sheger online-store  @Shageronlinestore  5325.0   \n",
       "10   Sheger online-store  @Shageronlinestore  5323.0   \n",
       "..                   ...                 ...     ...   \n",
       "181  Sheger online-store  @Shageronlinestore  5142.0   \n",
       "182  Sheger online-store  @Shageronlinestore  5141.0   \n",
       "183  Sheger online-store  @Shageronlinestore  5140.0   \n",
       "184  Sheger online-store  @Shageronlinestore  5139.0   \n",
       "185  Sheger online-store  @Shageronlinestore  5138.0   \n",
       "\n",
       "                                               Message  \\\n",
       "5    3pcs silicon brush spatulas\\n\\n\\n      \\n     ...   \n",
       "6    Mandoline Slicer\\n\\n ጊዜ ቆጣቢ ስላይስ ማድረጊያ \\n  ለእጅ...   \n",
       "7    Table Desk Edge Guard Strip\\n        High Qual...   \n",
       "8    Table Desk Edge Guard Strip\\n        High Qual...   \n",
       "10   Only baby 3in1 double bottle milk warmer,steri...   \n",
       "..                                                 ...   \n",
       "181  WINNING STAR® 2in1 MULTIFUNCTIONAL BLENDER\\n\\n...   \n",
       "182  3.6L Glass dispenser jar with Bamboo stand\\n\\n...   \n",
       "183  3.6L Glass dispenser jar with Bamboo stand\\n\\n...   \n",
       "184  44CM HAOCHU® CERAMIC PIZZA PAN\\n\\nለቤትና ለሬስቶራንት...   \n",
       "185  Silver Crest® touch technology electric stove ...   \n",
       "\n",
       "                          Date                          Media Path  \\\n",
       "5    2024-09-20 11:50:02+00:00  photos/@Shageronlinestore_5328.jpg   \n",
       "6    2024-09-20 08:11:40+00:00                                 NaN   \n",
       "7    2024-09-20 05:23:18+00:00                                 NaN   \n",
       "8    2024-09-20 05:21:14+00:00  photos/@Shageronlinestore_5325.jpg   \n",
       "10   2024-09-19 13:54:46+00:00  photos/@Shageronlinestore_5323.jpg   \n",
       "..                         ...                                 ...   \n",
       "181  2024-08-29 09:12:06+00:00  photos/@Shageronlinestore_5142.jpg   \n",
       "182  2024-08-29 06:02:13+00:00                                 NaN   \n",
       "183  2024-08-29 06:01:02+00:00  photos/@Shageronlinestore_5140.jpg   \n",
       "184  2024-08-28 18:38:44+00:00  photos/@Shageronlinestore_5139.jpg   \n",
       "185  2024-08-28 14:11:54+00:00  photos/@Shageronlinestore_5138.jpg   \n",
       "\n",
       "                                       Labeled_Message Category  \n",
       "5    3pcs O\\nsilicon O\\nbrush O\\nspatulas O\\nዋጋ-550...    Other  \n",
       "6    Mandoline O\\nSlicer O\\nጊዜ O\\nቆጣቢ O\\nስላይስ O\\nማድ...    Price  \n",
       "7    Table O\\nDesk O\\nEdge O\\nGuard O\\nStrip O\\nHig...    Price  \n",
       "8    Table O\\nDesk O\\nEdge O\\nGuard O\\nStrip O\\nHig...    Price  \n",
       "10   Only O\\nbaby O\\n3in1 O\\ndouble O\\nbottle O\\nmi...    Other  \n",
       "..                                                 ...      ...  \n",
       "181  WINNING O\\nSTAR® O\\n2in1 O\\nMULTIFUNCTIONAL O\\...    Other  \n",
       "182  3.6L O\\nGlass O\\ndispenser O\\njar O\\nwith O\\nB...    Other  \n",
       "183  3.6L O\\nGlass O\\ndispenser O\\njar O\\nwith O\\nB...    Other  \n",
       "184  44CM O\\nHAOCHU® O\\nCERAMIC O\\nPIZZA O\\nPAN O\\n...    Other  \n",
       "185  Silver O\\nCrest® O\\ntouch O\\ntechnology O\\nele...    Other  \n",
       "\n",
       "[100 rows x 8 columns]"
      ]
     },
     "execution_count": 19,
     "metadata": {},
     "output_type": "execute_result"
    }
   ],
   "source": [
    "df.head(100)"
   ]
  },
  {
   "cell_type": "code",
   "execution_count": 20,
   "metadata": {},
   "outputs": [],
   "source": [
    "# from wordcloud import WordCloud\n",
    "# import matplotlib.pyplot as plt\n",
    "# # Filter for uncategorized items\n",
    "# uncategorized_items = df[df['Category'] == 'uncategorized']\n",
    "\n",
    "# # Combine all messages into a single string\n",
    "# text = ' '.join(uncategorized_items['Message'])\n",
    "\n",
    "# # Generate the word cloud\n",
    "# wordcloud = WordCloud(width=800, height=400, background_color='white', \n",
    "#                       colormap='viridis', max_words=200).generate(text)\n",
    "\n",
    "# # Display the word cloud\n",
    "# plt.figure(figsize=(10, 5))\n",
    "# plt.imshow(wordcloud, interpolation='bilinear')\n",
    "# plt.axis('off')  # Turn off the axis\n",
    "# plt.title('Word Cloud of Messages for Uncategorized Items')\n",
    "# plt.show()"
   ]
  },
  {
   "cell_type": "code",
   "execution_count": 28,
   "metadata": {},
   "outputs": [
    {
     "data": {
      "text/html": [
       "<div>\n",
       "<style scoped>\n",
       "    .dataframe tbody tr th:only-of-type {\n",
       "        vertical-align: middle;\n",
       "    }\n",
       "\n",
       "    .dataframe tbody tr th {\n",
       "        vertical-align: top;\n",
       "    }\n",
       "\n",
       "    .dataframe thead th {\n",
       "        text-align: right;\n",
       "    }\n",
       "</style>\n",
       "<table border=\"1\" class=\"dataframe\">\n",
       "  <thead>\n",
       "    <tr style=\"text-align: right;\">\n",
       "      <th></th>\n",
       "      <th>Channel Title</th>\n",
       "      <th>Channel Username</th>\n",
       "      <th>ID</th>\n",
       "      <th>Message</th>\n",
       "      <th>Date</th>\n",
       "      <th>Media Path</th>\n",
       "      <th>Labeled_Message</th>\n",
       "      <th>Contains_Amharic</th>\n",
       "      <th>Category</th>\n",
       "    </tr>\n",
       "  </thead>\n",
       "  <tbody>\n",
       "  </tbody>\n",
       "</table>\n",
       "</div>"
      ],
      "text/plain": [
       "Empty DataFrame\n",
       "Columns: [Channel Title, Channel Username, ID, Message, Date, Media Path, Labeled_Message, Contains_Amharic, Category]\n",
       "Index: []"
      ]
     },
     "execution_count": 28,
     "metadata": {},
     "output_type": "execute_result"
    }
   ],
   "source": [
    "uncategorized_items = df[df['Category'] == 'uncategorized']\n",
    "uncategorized_items.head(100)"
   ]
  },
  {
   "cell_type": "code",
   "execution_count": null,
   "metadata": {},
   "outputs": [],
   "source": [
    "df = df.to_csv('../data/labeled_data.conll')"
   ]
  }
 ],
 "metadata": {
  "kernelspec": {
   "display_name": "eda",
   "language": "python",
   "name": "python3"
  },
  "language_info": {
   "codemirror_mode": {
    "name": "ipython",
    "version": 3
   },
   "file_extension": ".py",
   "mimetype": "text/x-python",
   "name": "python",
   "nbconvert_exporter": "python",
   "pygments_lexer": "ipython3",
   "version": "3.12.3"
  }
 },
 "nbformat": 4,
 "nbformat_minor": 2
}
